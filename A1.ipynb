{
 "cells": [
  {
   "cell_type": "markdown",
   "metadata": {
    "colab_type": "text",
    "id": "fzMyE386oaaV"
   },
   "source": [
    "**Fall 2019**\n",
    "\n",
    "**P556: Applied Machine Learning**\n",
    "\n",
    "**Assignment #1**\n",
    "\n",
    "**Due date: September 18, 2019. 11:59 PM**\n",
    "\n",
    "DO NOT CHANGE THE FUNCTION DEFINITIONS UNLESS APPROVED BY AN AI."
   ]
  },
  {
   "cell_type": "markdown",
   "metadata": {
    "colab_type": "text",
    "id": "FJz8ZxU7opMy"
   },
   "source": [
    "# Problem #1: Linear Regression\n",
    "\n",
    "##  Problem 1.1 (25 points)\n",
    "\n",
    "Implement linear regression using gradient descent. Your implementation should be able to handle simple and multiple linear regression.\n",
    "\n",
    "Note 1: by implementation we mean that everything has to be written from scratch and that you cannot call a linear regression function from a library, such as sklearn. Usage of standard libraries, such as numpy, pandas, etc., is fine. If you are unsure about whether a library can be used, please contact the AIs well in advance of the submission date.\n",
    "\n",
    "Note 2: You are free to use sklearn to test whether your results match that from a battle-tested library. This is a great way to know before hand whether your submission is correct. Make sure to use the same parameters on both models before you spend an eternity debugging code that is correct but not returning the same values."
   ]
  },
  {
   "cell_type": "code",
   "execution_count": 11,
   "metadata": {
    "colab": {},
    "colab_type": "code",
    "id": "dW1xPyXPoonO"
   },
   "outputs": [],
   "source": [
    "import numpy as np\n",
    "import pandas as pd \n",
    "\n",
    "class linear_regression:\n",
    "    def __init__(self, learning_rate, iterations, \n",
    "               fit_intercept=True, normalize=False, coef=None):\n",
    "        self.fit_intercept = fit_intercept\n",
    "        self.normalize = normalize\n",
    "        self.learning_rate = learning_rate\n",
    "        self.iterations = iterations\n",
    "        self.coef = coef\n",
    "  \n",
    "    def fit(self,X, y):\n",
    "        \"\"\"\n",
    "        Fit linear model.\n",
    "        Parameters\n",
    "        ----------\n",
    "        X : array-like, shape (n_samples, n_features)\n",
    "            Training data\n",
    "        y : array_like, shape (n_samples, n_targets)\n",
    "            Target values.\n",
    "        \"\"\"\n",
    "\n",
    "        learning_rate = 0.0001      #tried values betwn 0.1 to 0.0001 and got best results for 0.0001   \n",
    "        iterations = 1000           #tried different values between from 200 to 2000 and it got insignificant after 1000\n",
    "\n",
    "        n = len(y)                  #no of tuples in training data\n",
    "        num_col = X.shape[1]        #no of features in the dataset\n",
    "\n",
    "        coef = []                   #declare theta array at the beginning\n",
    "        for i in range(num_col+1):\n",
    "            coef.append(0)          #initialize theta to 0 initially\n",
    "\n",
    "        \"\"\"The functions used in following line have been referenced from numpy manual\"\"\"\n",
    "        X = (X-np.mean(X))/(np.amax(X)-np.amin(X))\n",
    "        \n",
    "        \"\"\"To add 1s as first column in X matrix, the function hstack is used from numpy manual\"\"\"\n",
    "        X0 = np.ones((n,1))\n",
    "        X = np.hstack((X0,X))\n",
    "\n",
    "        for i in range(iterations):\n",
    "            Yp = []\n",
    "            Yp = np.dot(X,coef)           #multiply the X with theta\n",
    "            for i in range(num_col+1):\n",
    "                dummy = 0                 #initialize a dummy variable to use in furthur computations\n",
    "                for j in range(n):\n",
    "                    #dummy variable updated each time with product of X & diff between actual and predicted y value\n",
    "                    dummy = dummy + ((Yp[j]-y[j])*X[j][i])\n",
    "                    #theta updated each time w.r.t dummy and learning rate\n",
    "                    coef[i] = coef[i]-(2*learning_rate*dummy)/n\n",
    "        return (coef)\n",
    "    pass\n",
    "  \n",
    "    def predict(self, X):\n",
    "        \"\"\"Predict using the linear model\n",
    "        Parameters\n",
    "        ----------\n",
    "        X : array_like, shape (n_samples, n_features)\n",
    "        Samples.\n",
    "        Returns\n",
    "        -------\n",
    "        C : array, shape (n_samples,)\n",
    "            Returns predicted values.\n",
    "        \"\"\"\n",
    "        y = []\n",
    "        \n",
    "        \"\"\"The functions used in following line have been referenced from numpy manual\"\"\"\n",
    "        X = (X-np.mean(X))/(np.amax(X)-np.amin(X))\n",
    "        \n",
    "        \"\"\"To add 1s as first column in X matrix, the function hstack is used from numpy manual\"\"\"\n",
    "        X0 = np.ones((X.shape[0],1))\n",
    "        X = np.hstack((X0,X))\n",
    "        \n",
    "        num_col = X.shape[1]                \n",
    "        for i in range(len(X)):             #consider all the tuples in the X\n",
    "            k = 0\n",
    "            for j in range(num_col):        #consider all the columns in the X\n",
    "                k = k + X[i][j]*coef[j]     #multiply the X_test data with the coef we calculated in fit function\n",
    "            y.append(k)                 \n",
    "        return y\n",
    "    pass"
   ]
  },
  {
   "cell_type": "markdown",
   "metadata": {
    "colab_type": "text",
    "id": "Man3c1JrhVbr"
   },
   "source": [
    "## Problem 1.2 (10 points)\n",
    "\n",
    "- Split the Boston Housing dataset into train and test sets (70% and 30%, respectively) (5 points). \n",
    "- Fit your linear regression implementation using the training set and print your model's coefficients. Make predictions for the test set using your fitted model (5 points)."
   ]
  },
  {
   "cell_type": "code",
   "execution_count": 12,
   "metadata": {
    "colab": {},
    "colab_type": "code",
    "id": "VEFBL6WwhXUz",
    "scrolled": true
   },
   "outputs": [
    {
     "name": "stdout",
     "output_type": "stream",
     "text": [
      "[25.026926006105825, 22.92228136743191, 11.507472081989668, 24.31622118917274, 16.130565622696423, 25.07910247154768, 26.09573132533813, 25.01820844779173, 17.940091264795004, 24.723974462289178, 24.50701860296393, 24.839479009308302, 26.209658850615078, 22.20554710752627, 21.623759569152774, 21.31760109364329, 24.975266292862447, 25.679838311098784, 23.87707058521482, 24.90327863184643, 17.24195180588063, 25.864482339818046, 24.718032619649982, 24.992084089632453, 24.289199788516502, 23.076022578692086, 24.91186679056463, 24.737628831298494, 26.452394454037485, 15.454578965169302, 24.99216812892567, 24.241613319351803, 22.42880645073489, 25.88416925961673, 18.651529945704993, 18.201148861048114, 12.577367181665524, 22.06688810357779, 23.547001306534504, 25.527672980651346, 24.688748679611034, 17.321074610298158, 25.865168025568686, 24.187141066550158, 24.360529502097048, 24.36280065508872, 23.173568277138198, 23.079609490683975, 25.480140383940054, 21.810688847342327, 17.66402265082654, 24.268229195493568, 25.18826670381552, 23.291984382923474, 25.84099369687109, 24.59579228568305, 22.973349376144622, 25.81560068250955, 25.657097618386185, 24.302236446963526, 24.433864210537468, 18.181330715985023, 25.988753300686806, 25.006419715572843, 24.381168885354487, 24.02485309765283, 18.150608473317725, 21.943378166942175, 23.946273003806045, 23.22173426170996, 23.930162856398976, 25.10320134072963, 24.562417462545984, 18.32559933533868, 24.157112098610938, 18.27482952414383, 23.12434533635734, 25.825004823411064, 18.104474872718274, 25.145439147729526, 23.46122733876047, 23.811060603574262, 24.026816885352567, 24.964226459244543, 21.328608585791283, 23.248972222557327, 17.849540930641343, 23.11936006688507, 23.188029531097403, 17.646825733524192, 24.371353575374723, 22.36059262485162, 24.222600004254133, 24.204205834565872, 23.702493801287364, 24.428595681328847, 24.272834090778304, 24.93922453013668, 20.841101348698764, 24.86192338250085, 18.0482634944096, 24.41535110402455, 24.878039189156326, 22.159179493525595, 18.217976174113574, 25.85417297571306, 18.241111518637116, 11.29377376082601, 17.43858869016181, 15.814648739930902, 24.8730963317002, 25.0429783898233, 25.6276781160865, 18.213466335260375, 19.80355997288556, 18.089596528565206, 18.375721594292095, 18.383960060765304, 24.626289313372485, 17.836433724644607, 25.864877435862702, 22.66988342399831, 18.146549689754224, 18.322713480186238, 22.1064103376973, 22.98346537846259, 24.221708037838887, 25.969772414057612, 11.85393599389785, 22.023751009683842, 22.154387679166927, 24.530972627770204, 25.12190071329187, 24.707779967761347, 25.76938322223029, 21.955763216304906, 24.074677402984467, 25.165300621201197, 17.99530366357298, 22.234071517199837, 25.54865029808198, 11.62566502631588, 24.1170135057633, 24.482367094889106, 24.93699606282177, 23.937372584224477, 17.722870724586166, 25.588096865129994, 22.972389933231977, 25.833377172704896, 19.956233273669028, 24.104724335108852]\n"
     ]
    }
   ],
   "source": [
    "from sklearn.datasets import load_boston\n",
    "from sklearn.model_selection import train_test_split\n",
    "\n",
    "# Your code goes here\n",
    "data = load_boston()\n",
    "X, y = data['data'], data['target']\n",
    "X_train, X_test, y_train, y_test = train_test_split(X,y,test_size = 0.3)\n",
    "coef = linear_regression.fit(1,X_train,y_train)\n",
    "y_pred = linear_regression.predict(1,X_test)\n",
    "print(y_pred)"
   ]
  },
  {
   "cell_type": "markdown",
   "metadata": {
    "colab_type": "text",
    "id": "9FXqtD_KhZwV"
   },
   "source": [
    "## Problem 1.3 (10 points)\n",
    "\n",
    "Identify the variable or set of variables that will minimize the mean square error (MSE). Hint: this is where your function being able to handle simple and multiple regression becomes useful."
   ]
  },
  {
   "cell_type": "code",
   "execution_count": 16,
   "metadata": {
    "colab": {},
    "colab_type": "code",
    "id": "sFlcvY_piKus"
   },
   "outputs": [
    {
     "name": "stdout",
     "output_type": "stream",
     "text": [
      "49.59410629564235\n"
     ]
    },
    {
     "data": {
      "text/plain": [
       "'\"var=[]\\nfor i in range(X.shape[1]):\\n    Xi = []\\n    for j in range(X.shape[0]):\\n        Xi.append([j][i])\\n    var.append(np.var(X[j][i]))        \\nprint (var)'"
      ]
     },
     "execution_count": 16,
     "metadata": {},
     "output_type": "execute_result"
    }
   ],
   "source": [
    "import numpy as np\n",
    "from sklearn.metrics import mean_squared_error\n",
    "from sklearn.datasets import load_boston\n",
    "from sklearn.feature_selection import VarianceThreshold\n",
    "\n",
    "mse = (mean_squared_error(y_test, y_pred))\n",
    "print(mse)\n",
    "\n",
    "\"\"\"\"var=[]\n",
    "for i in range(X.shape[1]):\n",
    "    Xi = []\n",
    "    for j in range(X.shape[0]):\n",
    "        Xi.append([j][i])\n",
    "    var.append(np.var(X[j][i]))        \n",
    "print (var)\"\"\""
   ]
  },
  {
   "cell_type": "markdown",
   "metadata": {
    "colab_type": "text",
    "id": "KcqYa1U3iRQ1"
   },
   "source": [
    "## Problem 1.4 (5 points)\n",
    "\n",
    "1. How do you interpret that a variable causes a model's mean square error to increase? (2 points)\n",
    "  \n",
    "     - Answer: Mean Square error is basically how far the predicted values are present from the actual values. There are two contributing factors associated to MSE, bias and variance! The bias is how far all the predicted values are from the actual values. It is the assumptions made to make easier for model to fit to the target values! The variance is how much target values change with the change in the training data. It tells us how the model can perform well for given training data and might not be that accurate for different training set. The mean square error increases with the increase in either bias or variance. Mathematically it can be simply represented as MSE = (Bias)^2 + Variance. In such ways, the variable can cause the mean square error to increase. So to reduce the mean square error, you can't reduce bias and variance at the same time. Hence there is a certain tradeoff between bias and variance to achieve a better model or a least possible mean squared error.\n",
    "      \n",
    "      \n",
    "2. Why we would want to normalize our variables? (1 point)\n",
    "      \n",
    "    - Answer: Any given dataset has different features and these features have different values in different ranges depending on what the feature is. It is very complicated to work on such data and make predictions as one feature might have all values in single digit and the other feature may have all values as three digit numbers.For e.g, in any housing dataset the feature #bedrooms will always have a value at the max 10, whereas the feature area of house may have values ranging 1000-4000. So its necessary to normalize the variables and bring them to common scale in order to perform computations on the data!\n",
    "\n",
    "\n",
    "3. A model fitted using the exact same split dataset with normalized values will generate the same coefficients as a model that was fitted using values that haven't been normalized. Clearly state whether that statement is true or false and explain your reasoning. (2 points)\n",
    "  \n",
    "   - Answer: The given statement is false. When the coeffecient is calculated for the split dataset with values which are not normalized, it will do all the computations on the actual values of the data. The coefficient is updated for each iteration depending upon the values of the given dataset. However when we normalize the same set of split dataset, those values are scaled to a particular range. Now the coefficient is calculated with respect to these values and in accordance with this new scale. Also, I checked this by experimenting it in my code once and thus cross verified it on actual dataset."
   ]
  },
  {
   "cell_type": "markdown",
   "metadata": {
    "colab_type": "text",
    "id": "RJSot41BkMrB"
   },
   "source": [
    "# Problem 2: Binary Classification\n",
    "\n",
    "## Problem 2.1 (5 points)\n",
    "\n",
    "Consider the binary classification problem of mapping a given input to two classes. Let $\\mathcal{X}=\\mathbb{R}^d$ and $\\mathcal{Y}=\\{+1, -1\\}$ be the input space and output space, respectively. In simple words, it means that the input has $d$ features and all of them are real valued, whereas the output can only take values $-1$ or $+1$. This is one of the most common problems in machine learning and many sophisticated methods exist to solve it. In the question, we will solve it using the concepts we have already learned in class. Let us assume the two sets of points can be separated using a straight line i.e. the samples are linearly separable. So if $d=2$, one should be able to draw a line to distinguish between the two classes. All points lying on side of the line should belong to a particular class (say $1$) and the points lying on the other side should belong to another class (say $2$). To see what this would look like,  your first task is as follows:\n",
    "\n",
    "Write a function that will randomly generate a dataset for this problem. Your function should randomly choose a line $l$, which can be denoted as $ax + by + c = 0$. According to basic high school geometry, the line divides the plane into two sides. On one side, $ax+by+c>0$ while on the other $ax+by+c<0$. Use this fact to randomly generate $k_0$ points on the side of class 0 (i.e. $y=-1$) and $k_1$ points on the side of class 1 (i.e. $y=1$). Create a plot of this dataset where all the points corresponding to one class are blue and those of the other class are green, the line dividing both classes should be red. Axes should be labeled.\n",
    "\n",
    "**Note**: Do not confuse the $x$ and $y$ in the equation of line $ax + by + c = 0$ with $\\mathcal{X} $ and $\\mathcal{Y}$. Instead imagine these $x$ and $y$ as the 2-D coordinate system on which you have different points which should lie on 2 sides of the line $ax + by + c = 0$. For example, there is a point (2,3) in the 2-D system where $x = 2$ and $y = 3$."
   ]
  },
  {
   "cell_type": "code",
   "execution_count": 22,
   "metadata": {
    "colab": {},
    "colab_type": "code",
    "id": "g96jFpGyMIFu"
   },
   "outputs": [],
   "source": [
    "def generate_dataset(k0, k1):\n",
    "    \"\"\"\n",
    "    Parameters\n",
    "    ----------\n",
    "    k0 : integer, number of samples for class 0\n",
    "    k1 : integer, number of samples for class 1\n",
    "\n",
    "    Returns\n",
    "    -------\n",
    "    X : array, shape (m, d), dimension numpy array where m is the number of \n",
    "    samples and d is the number of features \n",
    "\n",
    "    Y : array, (m, 1), dimension vector where m is the number of samples\n",
    "    \"\"\"\n",
    "\n",
    "    from matplotlib import pyplot as plt\n",
    "    import random\n",
    "    import numpy as np\n",
    "\n",
    "    x = np.linspace(-20,20,10)\n",
    "    a = random.randint(-20,20)\n",
    "    b = random.randint(-20,20)\n",
    "\n",
    "    #Below condition is inserted when b is selected as 0, it gave me error as b is a denominator in eqn of line\n",
    "    while b==0:                      \n",
    "        b=random.randint(-20,20)\n",
    "\n",
    "    c = random.randint(-20,20)\n",
    "    z = []\n",
    "    while (len(z)<k0):                  #generate k0 points\n",
    "        p = random.randint(-20,20)\n",
    "        q = random.randint(-20,20)\n",
    "        if(((a*p)+(b*q)+c)<0):          #check the condition ax+by+c<0 so that k0 points belong to class 0\n",
    "            z.append((p,q))\n",
    "    for i in range(k0):\n",
    "        plt.scatter(z[i][0],z[i][1],color='blue')   #plot all those k0 points belonging to class 0 as blue color\n",
    "\n",
    "    r = []\n",
    "    while (len(r)<k1):                 #generate k1 points\n",
    "        p = random.randint(-20,20)\n",
    "        q = random.randint(-20,20)\n",
    "        if(((a*p)+(b*q)+c)>0):         #check the condition ax+by+c>0 so that k1 points belong to class 1\n",
    "            r.append((p,q))      \n",
    "    for i in range(k1):\n",
    "        plt.scatter(r[i][0],r[i][1],color='green')  #plot all those k1 points belonging to class 1 as green color\n",
    "\n",
    "    y = (a*x+c)/(-1*b)\n",
    "    plt.plot(x, y, '-r')         #plot the random line ax+by+c=0 where a,b,c are random\n",
    "\n",
    "    plt.show()\n",
    "\n",
    "    X = []\n",
    "    y = []\n",
    "    X=z+r                   #X is input space with all k0 and k1 points\n",
    "    for i in range(k0):\n",
    "        y.append(-1)        #y will be -1 if it belongs to class 0\n",
    "    for i in range(k1):\n",
    "        y.append(1)         #y will be 1 if it belongs to class 1\n",
    "    X=z+r\n",
    "    return(X,y)\n",
    "pass"
   ]
  },
  {
   "cell_type": "markdown",
   "metadata": {
    "colab_type": "text",
    "id": "9mw15CFikXI1"
   },
   "source": [
    "## Problem 2.2 (35 points)\n",
    "\n",
    "If $\\mathcal{Y}$ is the variable you are trying to predict using a feature $\\mathcal{X}$ then in a typical Machine Learning problem, you are tasked with a target function $f$ which maps $\\mathcal{X}$ to $\\mathcal{Y}$ i.e. Find $f$ such that  $\\mathcal{Y}$  = $f(\\mathcal{X})$\n",
    "\n",
    "\n",
    "When you are given a dataset for which you do not have access the target function $f$, you have to learn it from the data. In this problem, we are going to learn the parameters of the line that separates the two classes for the dataset that we constructed in Problem 2.1. As we previously mentioned, that line can be represented as $ax + by + c = 0$.\n",
    "\n",
    "The goal here is to correctly find out the coefficients $a$, $b$, and $c$, represented below as $\\bf{w}$ which is a vector. The algorithm to find it is a simple iterative process: \n",
    "\n",
    "1. Randomly choose a $\\mathbf{w}$ to begin with.\n",
    "2. Keep on adjusting the value of $\\bf{w}$ as follows until all data samples are correctly classified:\n",
    "    1. Randomly choose a sample from the dataset without replacement and see if it is correctly classified. If yes,  move on to another sample.\n",
    "    2. If not,  then  update the weights as $\\mathbf{w}^{t+1} = \\mathbf{w}^t + y \\cdot \\mathbf{x}$\n",
    "    and go back to the previous step (of randomly chosing a sample)\n",
    "    \n",
    "        - $\\mathbf{w}^{t+1}$ is value of $\\mathbf{w}$ at iteration $t+1$\n",
    "        - $\\mathbf{w}^{t}$ is value of $\\mathbf{w}$ at iteration $t$\n",
    "        - $y$ is the class label for the sample under consideration\n",
    "        - $\\mathbf{x}$ is the data-point under consideration\n",
    "    \n",
    "    \n",
    "Write a function that implements this learning algorithm. The input to the function is going to be a dataset represented by the input variable $X$ and the target variable $y$. The output of the function should be the chosen $\\mathbf{w}$.\n",
    "\n"
   ]
  },
  {
   "cell_type": "code",
   "execution_count": 27,
   "metadata": {
    "colab": {},
    "colab_type": "code",
    "id": "SPk7AZaLkXSh",
    "scrolled": true
   },
   "outputs": [
    {
     "data": {
      "image/png": "[encoded data removed]",
      "text/plain": [
       "<Figure size 432x288 with 1 Axes>"
      ]
     },
     "metadata": {
      "needs_background": "light"
     },
     "output_type": "display_data"
    },
    {
     "name": "stdout",
     "output_type": "stream",
     "text": [
      "The weight vector is :\n",
      "[-75, -40]\n"
     ]
    }
   ],
   "source": [
    "def fit_line(X, y):\n",
    "    \"\"\"Predict using the binary classification model. Use the dataset generated \n",
    "    using generate_data() as input for this function.\n",
    "    \n",
    "    Parameters\n",
    "    ----------\n",
    "    X : array_like, shape (n_samples, n_features)\n",
    "        Samples.\n",
    "    y : array_like, shape (n_labels, 1)\n",
    "    \n",
    "    Returns\n",
    "    -------\n",
    "    w : array, shape (1,n_features)\n",
    "        Returns the final weight vector w.  \n",
    "    \"\"\"\n",
    "    import random\n",
    "    \n",
    "    num_col = (len(X[0]))                #number of features i.e. features in X\n",
    "    w = []\n",
    "    for i in range(num_col):\n",
    "        w.append(random.randint(0,10))   #initialize weight vector with random values\n",
    "    \n",
    "    yp = []\n",
    "    for i in range(len(y)):\n",
    "        yp.append(0)                     #initialize the y-predicted list to zero              \n",
    "    \n",
    "    list = []\n",
    "    #below while condition ensures that all the samples are picked up\n",
    "    while(len(list)<len(y)):\n",
    "        i = random.randint(0,len(y)-1)   #choose any random row from X\n",
    "        if i not in list:\n",
    "            #y = w1x1 + w2x2 + w3x3......wnxn where w is weight vector and Xi depends on no. of features\n",
    "           \n",
    "            y_out = 0                         #initialize a dummy variable with 0\n",
    "            for j in range(num_col):      \n",
    "                y_out = y_out + w[j]*X[i][j]  #multiply the weight vector w with the corresponding X values\n",
    "            \n",
    "            #The output space should be [-1,1]\n",
    "            if y_out<0:\n",
    "                yp[i]=-1\n",
    "            else:\n",
    "                yp[i]=1\n",
    "                \n",
    "            #If the predicted value is not equal to actual value, update the weights\n",
    "            if yp[i]!=y[i]:\n",
    "                for j in range(num_col):\n",
    "                    w[j]= w[j]+(y[i]*X[i][j])    #𝐰(𝑡+1) = 𝐰𝑡 + 𝑦⋅𝐱 \n",
    "            else:\n",
    "                list.append(i)  #it will append the sample to list only if it has been correctly classified    \n",
    "    return(w)\n",
    "pass\n",
    "\n",
    "# Main Function\n",
    "if __name__ == \"__main__\":\n",
    "    X,y = generate_dataset(300,300)\n",
    "    W = fit_line(X,y)\n",
    "    print('The weight vector is :')\n",
    "    print(W)"
   ]
  },
  {
   "cell_type": "markdown",
   "metadata": {
    "colab_type": "text",
    "id": "SHc3t4e9MOxu"
   },
   "source": [
    "### Problem 2.3 (10 points)\n",
    "- Give an intuition of why the above algorithm converges for linearly separable data? We do not expect you to give a mathematic proof, but it would be great if you can provide one. You will get full points even if you just provide an intuition of a few lines. Including figures or mathematical equations is encouraged but not required. (5 points)\n",
    "\n",
    "  - Answer: The data we have is linearly seperable data i.e. it does not have any outliers beyond its class. The execution is carried out till all the misclassified tuples are properly classified. At any point in execution, the difference between    |Wk-Wi| is bounded by a function say Ck where C is constant. Also as the perceptron algorithm proceeds, the number of misclassifications k approaches close to function. The overall result follows from this bound and the fact that, at each iteration until convergence, the perceptron classifies at least one vector each time. Also as there are only two classes possible for the output space, and as we take the dot product of the weight vector and the features the cosine has just the possibilities of either less than or greater than 90. It will go on till all the tuples are correctly classified and this is achieved as the data is linearly seperable. \n",
    "\n",
    "- What happens when the data is not linearly separable? What can be done to salvage the situation?\n",
    "\n",
    "  - Answer: When the data is not linearly seperable, there is no gurantee that the algorithm will convergence nor any gurantee of the accuracy. In above code, we specify to classify each tuple till all are correctly classified. It happens because the data is linearly seperable but it won't work in case of linearly inseperable data. In order to solve this problem, we can provide some condition to the algorithm to help determine when it should stop trying to fit the data. The conditions can be anything which would tell the algorithm when to stop. For example, define the number of iterations beforehand or set some minimum value for the number of tuples which are not properly classified. We can also try to extend it in higher dimensional space so that the data might be linearly seperable in higher dimension than the lower one."
   ]
  }
 ],
 "metadata": {
  "colab": {
   "name": "A1-F19.ipynb",
   "provenance": [],
   "version": "0.3.2"
  },
  "kernelspec": {
   "display_name": "Python 3",
   "language": "python",
   "name": "python3"
  },
  "language_info": {
   "codemirror_mode": {
    "name": "ipython",
    "version": 3
   },
   "file_extension": ".py",
   "mimetype": "text/x-python",
   "name": "python",
   "nbconvert_exporter": "python",
   "pygments_lexer": "ipython3",
   "version": "3.7.3"
  }
 },
 "nbformat": 4,
 "nbformat_minor": 1
}
